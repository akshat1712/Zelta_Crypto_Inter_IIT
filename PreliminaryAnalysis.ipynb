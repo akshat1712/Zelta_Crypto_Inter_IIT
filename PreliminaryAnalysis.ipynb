{
 "cells": [
  {
   "cell_type": "code",
   "execution_count": 26,
   "metadata": {},
   "outputs": [],
   "source": [
    "# Importing the libraries\n",
    "import pandas as pd\n",
    "import numpy as np\n",
    "import warnings\n",
    "warnings.filterwarnings(\"ignore\")\n"
   ]
  },
  {
   "cell_type": "code",
   "execution_count": 27,
   "metadata": {},
   "outputs": [],
   "source": [
    "# Environment variables\n",
    "FILE = 'dataset/btcusdt_1d.xlsx'\n",
    "PERIODS=range(5,30,5)"
   ]
  },
  {
   "cell_type": "code",
   "execution_count": 28,
   "metadata": {},
   "outputs": [],
   "source": [
    "# Importing the dataset\n",
    "df=pd.read_excel(FILE)"
   ]
  },
  {
   "cell_type": "code",
   "execution_count": 29,
   "metadata": {},
   "outputs": [
    {
     "name": "stdout",
     "output_type": "stream",
     "text": [
      "Correlation for Close using period 5 is 0.02491443080715152\n",
      "Correlation for Close using period 10 is 0.14594729094716535\n",
      "Correlation for Close using period 15 is 0.07542305212675172\n",
      "Correlation for Close using period 20 is 0.003238190590636604\n",
      "Correlation for Close using period 25 is 0.058908728373116385\n"
     ]
    }
   ],
   "source": [
    "# Checking for Correlation in returns for successive periods\n",
    "\n",
    "for period in PERIODS:\n",
    "    df_temp= df.iloc[::period,:]\n",
    "    df_temp['close_return']=df_temp['close'].pct_change()\n",
    "    df_temp['close_return_shift']=df_temp['close_return'].shift(-1)\n",
    "    df.dropna(inplace=True)\n",
    "    corr=df_temp['close_return'].corr(df_temp['close_return_shift'])\n",
    "    print('Correlation for Close using period {} is {}'.format(period,corr))"
   ]
  }
 ],
 "metadata": {
  "kernelspec": {
   "display_name": "Python 3",
   "language": "python",
   "name": "python3"
  },
  "language_info": {
   "codemirror_mode": {
    "name": "ipython",
    "version": 3
   },
   "file_extension": ".py",
   "mimetype": "text/x-python",
   "name": "python",
   "nbconvert_exporter": "python",
   "pygments_lexer": "ipython3",
   "version": "3.10.12"
  }
 },
 "nbformat": 4,
 "nbformat_minor": 2
}
