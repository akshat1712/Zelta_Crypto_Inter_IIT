{
 "cells": [
  {
   "cell_type": "code",
   "execution_count": null,
   "metadata": {},
   "outputs": [],
   "source": [
    "import pandas as pd\n",
    "import numpy as np\n",
    "import matplotlib.pyplot as plt\n",
    "from datetime import datetime"
   ]
  },
  {
   "cell_type": "code",
   "execution_count": null,
   "metadata": {},
   "outputs": [],
   "source": [
    "OUTPUT_PATH = 'Output/'\n",
    "INPUT_PATH = 'Dataset/'\n",
    "\n",
    "SIGNALS = [-1,0,1]\n",
    "PRICE_TYPE = ['open','close','high','low']"
   ]
  },
  {
   "cell_type": "code",
   "execution_count": null,
   "metadata": {},
   "outputs": [],
   "source": [
    "class Trade:\n",
    "    \n",
    "    def __init__(self) -> None:\n",
    "        self.timeStamp = None\n",
    "        self.signal = None\n",
    "        self.price_type = None\n",
    "    \n",
    "    def execute(self,timeStamp:datetime ,signal:int,price_type:str) -> object:\n",
    "        \n",
    "        assert signal in SIGNALS, f\"Invalid Signal {signal}\"\n",
    "        assert price_type in PRICE_TYPE, f\"Invalid Price Type {price_type}\"\n",
    "\n",
    "        self.timeStamp = timeStamp\n",
    "        self.signal = signal\n",
    "        self.price_type = price_type\n",
    "        return self\n",
    "    \n",
    "    def __str__(self) -> str:\n",
    "        return f\"{self.timeStamp} {self.signal} {self.price_type}\"\n",
    "    \n",
    "\n",
    "class PrVO:\n",
    "\n",
    "    def __init__(self,open:float,high:float,low:float,close:float,volume:int,timeStamp:datetime) -> None:\n",
    "        self.open = open\n",
    "        self.high = high\n",
    "        self.low = low\n",
    "        self.close = close\n",
    "        self.volume = volume\n",
    "        self.timeStamp = timeStamp\n",
    "        self.returns = (close - open)/open\n",
    "        self.candle_color = 'GREEN' if self.close > self.open else 'RED'\n",
    "\n",
    "    def __repr__(self) -> str:\n",
    "        return f\"Price-Volume : Open={self.open}, High={self.high},Low={self.low}, Close={self.close}, Volume={self.volume}, TimeStamp={self.timeStamp}\"\n",
    "    \n",
    "    def __str__(self) -> str:\n",
    "        return f\"Price-Volume : Open={self.open}, High={self.high},Low={self.low}, Close={self.close}, Volume={self.volume}, TimeStamp={self.timeStamp}\""
   ]
  },
  {
   "cell_type": "code",
   "execution_count": null,
   "metadata": {},
   "outputs": [],
   "source": [
    "class TradingTerminal:\n",
    "\n",
    "    def __init__(self) -> None:\n",
    "        self.time=None\n",
    "        self.PrVo=dict()\n",
    "        self.cash_balance=1000\n",
    "        self.tradeHistory=[]\n",
    "\n",
    "    def readData(self,filepath):\n",
    "        df=pd.read_excel(INPUT_PATH+filepath)\n",
    "        \n",
    "        data=[]\n",
    "        for index,row in df.iterrows():\n",
    "            data.append(PrVO(row['open'],row['high'],row['low'],row['close'],row['volume'],row['datetime']))\n",
    "\n",
    "        data_timeframe=filepath.split('/')[-1].split('.')[0].split('_')[1]\n",
    "        self.PrVo[data_timeframe]=np.array(data)\n",
    "        \n",
    "    def takeTrade(self,timeStamp,signal,price_type):\n",
    "        trade=Trade().execute(timeStamp,signal,price_type)\n",
    "        self.tradeHistory.append(trade)\n",
    "\n",
    "    def outputTradeHistory(self):\n",
    "        file=open(OUTPUT_PATH+'trade_history.txt','w')\n",
    "        for trade in self.tradeHistory:\n",
    "            file.write(str(trade)+'\\n')\n",
    "\n",
    "    def setTime(self,time):\n",
    "        self.time=time\n",
    "\n",
    "    def getSimpleMovingAverage(PrVo,lag,price_type):\n",
    "        assert price_type in PRICE_TYPE, f\"Invalid Price Type {price_type}\"\n",
    "        return PrVo[price_type].rolling(window=lag).mean()\n",
    "    \n",
    "\n",
    "    def Strategy1(self,lag1,lag2,price_type,timeframe):\n",
    "        assert price_type in PRICE_TYPE, f\"Invalid Price Type {price_type}\"\n",
    "        assert lag1>lag2, f\"Invalid Lag {lag1} {lag2}\"\n",
    "        assert timeframe in self.PrVo.keys(), f\"Invalid Timeframe {timeframe}\"\n",
    "\n",
    "        PrVo=self.PrVo[timeframe]\n",
    "\n",
    "        ema1=TradingTerminal.getSimpleMovingAverage(PrVo,lag1,price_type)\n",
    "        ema2=TradingTerminal.getSimpleMovingAverage(PrVo,lag2,price_type)\n",
    "        \n",
    "\n",
    "        for i in range(lag1,len(PrVo)):\n",
    "            if ema1[i]>ema2[i] and ema1[i-1]<ema2[i-1] and self.cash_balance>0:\n",
    "                self.takeTrade(PrVo[i].timeStamp,1,price_type)\n",
    "            elif ema1[i]<ema2[i] and ema1[i-1]>ema2[i-1]:\n",
    "                self.takeTrade(PrVo[i].timeStamp,-1,price_type)\n"
   ]
  },
  {
   "cell_type": "code",
   "execution_count": null,
   "metadata": {},
   "outputs": [],
   "source": [
    "tt = TradingTerminal()"
   ]
  },
  {
   "cell_type": "code",
   "execution_count": null,
   "metadata": {},
   "outputs": [],
   "source": [
    "FILE='btcusdt_1h.xlsx'\n",
    "\n",
    "tt.readData(FILE)"
   ]
  },
  {
   "cell_type": "code",
   "execution_count": null,
   "metadata": {},
   "outputs": [],
   "source": [
    "print(tt.getSimpleMovingAverage(tt.PrVo['1h'],10,'open'))"
   ]
  }
 ],
 "metadata": {
  "kernelspec": {
   "display_name": "Python 3",
   "language": "python",
   "name": "python3"
  },
  "language_info": {
   "codemirror_mode": {
    "name": "ipython",
    "version": 3
   },
   "file_extension": ".py",
   "mimetype": "text/x-python",
   "name": "python",
   "nbconvert_exporter": "python",
   "pygments_lexer": "ipython3",
   "version": "3.10.12"
  }
 },
 "nbformat": 4,
 "nbformat_minor": 2
}
