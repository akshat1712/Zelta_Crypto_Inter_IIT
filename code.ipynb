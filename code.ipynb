{
 "cells": [
  {
   "cell_type": "code",
   "execution_count": 25,
   "metadata": {},
   "outputs": [],
   "source": [
    "import pandas as pd\n",
    "import numpy as np\n",
    "import matplotlib.pyplot as plt\n",
    "from datetime import datetime"
   ]
  },
  {
   "cell_type": "code",
   "execution_count": 26,
   "metadata": {},
   "outputs": [],
   "source": [
    "OUTPUT_PATH = 'Output/'\n",
    "INPUT_PATH = 'Dataset/'"
   ]
  },
  {
   "cell_type": "code",
   "execution_count": 27,
   "metadata": {},
   "outputs": [],
   "source": [
    "SIGNALS = [-1,0,1]\n",
    "PRICE_TYPE = ['open','close','high','low']\n",
    "\n",
    "\n",
    "class Trade:\n",
    "    \n",
    "    def __init__(self) -> None:\n",
    "        self.timeStamp = None\n",
    "        self.signal = None\n",
    "        self.price_type = None\n",
    "    \n",
    "    def execute(self,timeStamp,signal,price_type) -> object:\n",
    "        \n",
    "        assert signal in SIGNALS, f\"Invalid Signal {signal}\"\n",
    "        assert price_type in PRICE_TYPE, f\"Invalid Price Type {price_type}\"\n",
    "\n",
    "        self.timeStamp = timeStamp\n",
    "        self.signal = signal\n",
    "        self.price_type = price_type\n",
    "        return self\n",
    "    \n",
    "    def __str__(self) -> str:\n",
    "        return f\"{self.timeStamp} {self.signal} {self.price_type}\""
   ]
  },
  {
   "cell_type": "code",
   "execution_count": 28,
   "metadata": {},
   "outputs": [],
   "source": [
    "class PrVO:\n",
    "\n",
    "    def __init__(self,open:float,high:float,low:float,close:float,volume:int,timeStamp) -> None:\n",
    "        self.open = open\n",
    "        self.high = high\n",
    "        self.low = low\n",
    "        self.close = close\n",
    "        self.volume = volume\n",
    "        self.timeStamp = timeStamp\n",
    "        self.returns = (close - open)/open\n",
    "        self.candle_color = 'GREEN' if self.close > self.open else 'RED'\n",
    "\n",
    "    def __repr__(self) -> str:\n",
    "        return f\"Price-Volume : Open={self.open}, High={self.high},Low={self.low}, Close={self.close}, Volume={self.volume}, TimeStamp={self.timeStamp}\"\n",
    "    \n",
    "    def __str__(self) -> str:\n",
    "        return f\"Price-Volume : Open={self.open}, High={self.high},Low={self.low}, Close={self.close}, Volume={self.volume}, TimeStamp={self.timeStamp}\""
   ]
  },
  {
   "cell_type": "code",
   "execution_count": 29,
   "metadata": {},
   "outputs": [],
   "source": [
    "class TradingTerminal:\n",
    "\n",
    "    def __init__(self) -> None:\n",
    "        self.time=None\n",
    "        self.PrVo=dict()\n",
    "        self.cash_balance=1000\n",
    "        self.tradeHistory=[]\n",
    "\n",
    "    def readData(self,filepath):\n",
    "        df=pd.read_excel(INPUT_PATH+filepath,header=0)\n",
    "        \n",
    "        data=[]\n",
    "        for index,row in df.iterrows():\n",
    "            data.append(PrVO(row['open'],row['high'],row['low'],row['close'],row['volume'],row['datetime']))\n",
    "\n",
    "        data_timeframe=filepath.split('/')[-1].split('.')[0].split('_')[1]\n",
    "        \n",
    "        if data_timeframe=='1h':\n",
    "            self.PrVo['1h']=np.array(data)\n",
    "        elif data_timeframe=='30m':\n",
    "            self.PrVo['30m']=np.array(data)\n",
    "        elif data_timeframe=='15m':\n",
    "            self.PrVo['15m']=np.array(data)\n",
    "        elif data_timeframe=='5m':\n",
    "            self.PrVo['5m']=np.array(data)\n",
    "        elif data_timeframe=='3m':\n",
    "            self.PrVo['3m']=np.array(data)\n",
    "        elif data_timeframe=='1m':\n",
    "            self.PrVo['1m']=np.array(data)\n",
    "\n",
    "    def takeTrade(self,timeStamp,signal,price_type):\n",
    "        trade=Trade().execute(timeStamp,signal,price_type)\n",
    "        self.tradeHistory.append(trade)\n",
    "\n",
    "    def outputTradeHistory(self):\n",
    "        file=open(OUTPUT_PATH+'trade_history.txt','w')\n",
    "        for trade in self.tradeHistory:\n",
    "            file.write(str(trade)+'\\n')\n",
    "\n",
    "    def setTime(self,time):\n",
    "        self.time=time\n",
    "\n",
    "    def getExponentialMovingAverage(PrVo,lag,price_type):\n",
    "        assert price_type in PRICE_TYPE, f\"Invalid Price Type {price_type}\"\n",
    "        return PrVo[price_type].ewm(span=lag,adjust=False).mean()\n",
    "\n",
    "    def getSimpleMovingAverage(PrVo,lag,price_type):\n",
    "        assert price_type in PRICE_TYPE, f\"Invalid Price Type {price_type}\"\n",
    "        return PrVo[price_type].rolling(window=lag).mean()\n",
    "\n",
    "    def Strategy1(self,lag1,lag2,price_type,timeframe):\n",
    "        assert price_type in PRICE_TYPE, f\"Invalid Price Type {price_type}\"\n",
    "        assert lag1>lag2, f\"Invalid Lag {lag1} {lag2}\"\n",
    "        assert timeframe in self.PrVo.keys(), f\"Invalid Timeframe {timeframe}\"\n",
    "\n",
    "        PrVo=self.PrVo[timeframe]\n",
    "\n",
    "        ema1=TradingTerminal.getExponentialMovingAverage(PrVo,lag1,price_type)\n",
    "        ema2=TradingTerminal.getExponentialMovingAverage(PrVo,lag2,price_type)\n",
    "        \n",
    "\n",
    "        for i in range(lag1,len(PrVo)):\n",
    "            if ema1[i]>ema2[i] and ema1[i-1]<ema2[i-1] and self.cash_balance>0:\n",
    "                self.takeTrade(PrVo[i].timeStamp,1,price_type)\n",
    "            elif ema1[i]<ema2[i] and ema1[i-1]>ema2[i-1]:\n",
    "                self.takeTrade(PrVo[i].timeStamp,-1,price_type)\n"
   ]
  },
  {
   "cell_type": "code",
   "execution_count": 30,
   "metadata": {},
   "outputs": [],
   "source": [
    "tt = TradingTerminal()"
   ]
  },
  {
   "cell_type": "code",
   "execution_count": 31,
   "metadata": {},
   "outputs": [],
   "source": [
    "FILE='btcusdt_1h.xlsx'\n",
    "\n",
    "tt.readData(FILE)"
   ]
  },
  {
   "cell_type": "code",
   "execution_count": 33,
   "metadata": {},
   "outputs": [
    {
     "ename": "IndexError",
     "evalue": "only integers, slices (`:`), ellipsis (`...`), numpy.newaxis (`None`) and integer or boolean arrays are valid indices",
     "output_type": "error",
     "traceback": [
      "\u001b[0;31m---------------------------------------------------------------------------\u001b[0m",
      "\u001b[0;31mIndexError\u001b[0m                                Traceback (most recent call last)",
      "\u001b[1;32m/home/akshat/Desktop/INTER-IIT/Crypto/code.ipynb Cell 8\u001b[0m line \u001b[0;36m1\n\u001b[0;32m----> <a href='vscode-notebook-cell:/home/akshat/Desktop/INTER-IIT/Crypto/code.ipynb#X10sZmlsZQ%3D%3D?line=0'>1</a>\u001b[0m tt\u001b[39m.\u001b[39;49mStrategy1(\u001b[39m20\u001b[39;49m,\u001b[39m10\u001b[39;49m,\u001b[39m'\u001b[39;49m\u001b[39mclose\u001b[39;49m\u001b[39m'\u001b[39;49m,\u001b[39m'\u001b[39;49m\u001b[39m1h\u001b[39;49m\u001b[39m'\u001b[39;49m)\n\u001b[1;32m      <a href='vscode-notebook-cell:/home/akshat/Desktop/INTER-IIT/Crypto/code.ipynb#X10sZmlsZQ%3D%3D?line=1'>2</a>\u001b[0m tt\u001b[39m.\u001b[39moutputTradeHistory()\n",
      "\u001b[1;32m/home/akshat/Desktop/INTER-IIT/Crypto/code.ipynb Cell 8\u001b[0m line \u001b[0;36m5\n\u001b[1;32m     <a href='vscode-notebook-cell:/home/akshat/Desktop/INTER-IIT/Crypto/code.ipynb#X10sZmlsZQ%3D%3D?line=54'>55</a>\u001b[0m \u001b[39massert\u001b[39;00m timeframe \u001b[39min\u001b[39;00m \u001b[39mself\u001b[39m\u001b[39m.\u001b[39mPrVo\u001b[39m.\u001b[39mkeys(), \u001b[39mf\u001b[39m\u001b[39m\"\u001b[39m\u001b[39mInvalid Timeframe \u001b[39m\u001b[39m{\u001b[39;00mtimeframe\u001b[39m}\u001b[39;00m\u001b[39m\"\u001b[39m\n\u001b[1;32m     <a href='vscode-notebook-cell:/home/akshat/Desktop/INTER-IIT/Crypto/code.ipynb#X10sZmlsZQ%3D%3D?line=56'>57</a>\u001b[0m PrVo\u001b[39m=\u001b[39m\u001b[39mself\u001b[39m\u001b[39m.\u001b[39mPrVo[timeframe]\n\u001b[0;32m---> <a href='vscode-notebook-cell:/home/akshat/Desktop/INTER-IIT/Crypto/code.ipynb#X10sZmlsZQ%3D%3D?line=58'>59</a>\u001b[0m ema1\u001b[39m=\u001b[39mTradingTerminal\u001b[39m.\u001b[39;49mgetExponentialMovingAverage(PrVo,lag1,price_type)\n\u001b[1;32m     <a href='vscode-notebook-cell:/home/akshat/Desktop/INTER-IIT/Crypto/code.ipynb#X10sZmlsZQ%3D%3D?line=59'>60</a>\u001b[0m ema2\u001b[39m=\u001b[39mTradingTerminal\u001b[39m.\u001b[39mgetExponentialMovingAverage(PrVo,lag2,price_type)\n\u001b[1;32m     <a href='vscode-notebook-cell:/home/akshat/Desktop/INTER-IIT/Crypto/code.ipynb#X10sZmlsZQ%3D%3D?line=62'>63</a>\u001b[0m \u001b[39mfor\u001b[39;00m i \u001b[39min\u001b[39;00m \u001b[39mrange\u001b[39m(lag1,\u001b[39mlen\u001b[39m(PrVo)):\n",
      "\u001b[1;32m/home/akshat/Desktop/INTER-IIT/Crypto/code.ipynb Cell 8\u001b[0m line \u001b[0;36m4\n\u001b[1;32m     <a href='vscode-notebook-cell:/home/akshat/Desktop/INTER-IIT/Crypto/code.ipynb#X10sZmlsZQ%3D%3D?line=42'>43</a>\u001b[0m \u001b[39mdef\u001b[39;00m \u001b[39mgetExponentialMovingAverage\u001b[39m(PrVo,lag,price_type):\n\u001b[1;32m     <a href='vscode-notebook-cell:/home/akshat/Desktop/INTER-IIT/Crypto/code.ipynb#X10sZmlsZQ%3D%3D?line=43'>44</a>\u001b[0m     \u001b[39massert\u001b[39;00m price_type \u001b[39min\u001b[39;00m PRICE_TYPE, \u001b[39mf\u001b[39m\u001b[39m\"\u001b[39m\u001b[39mInvalid Price Type \u001b[39m\u001b[39m{\u001b[39;00mprice_type\u001b[39m}\u001b[39;00m\u001b[39m\"\u001b[39m\n\u001b[0;32m---> <a href='vscode-notebook-cell:/home/akshat/Desktop/INTER-IIT/Crypto/code.ipynb#X10sZmlsZQ%3D%3D?line=44'>45</a>\u001b[0m     \u001b[39mreturn\u001b[39;00m PrVo[price_type]\u001b[39m.\u001b[39mewm(span\u001b[39m=\u001b[39mlag,adjust\u001b[39m=\u001b[39m\u001b[39mFalse\u001b[39;00m)\u001b[39m.\u001b[39mmean()\n",
      "\u001b[0;31mIndexError\u001b[0m: only integers, slices (`:`), ellipsis (`...`), numpy.newaxis (`None`) and integer or boolean arrays are valid indices"
     ]
    }
   ],
   "source": [
    "tt.Strategy1(20,10,'close','1h')\n",
    "tt.outputTradeHistory()"
   ]
  }
 ],
 "metadata": {
  "kernelspec": {
   "display_name": "Python 3",
   "language": "python",
   "name": "python3"
  },
  "language_info": {
   "codemirror_mode": {
    "name": "ipython",
    "version": 3
   },
   "file_extension": ".py",
   "mimetype": "text/x-python",
   "name": "python",
   "nbconvert_exporter": "python",
   "pygments_lexer": "ipython3",
   "version": "3.10.12"
  }
 },
 "nbformat": 4,
 "nbformat_minor": 2
}
