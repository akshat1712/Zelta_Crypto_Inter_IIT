{
 "cells": [
  {
   "cell_type": "code",
   "execution_count": 1,
   "metadata": {},
   "outputs": [],
   "source": [
    "import pandas as pd\n",
    "import numpy as np\n",
    "import matplotlib.pyplot as plt\n",
    "from datetime import datetime\n",
    "from abc import abstractmethod"
   ]
  },
  {
   "cell_type": "code",
   "execution_count": 2,
   "metadata": {},
   "outputs": [],
   "source": [
    "OUTPUT_PATH = 'output/'\n",
    "INPUT_PATH = 'dataset/'\n",
    "BASE_FILE_NAME='btcusdt'\n",
    "# TIME_FRAMES=['1h','3m','5m','15m','30m']\n",
    "TIME_FRAMES=['1h']\n",
    "\n",
    "SIGNALS = [-1,0,1]\n",
    "PRICE_TYPE = ['open','close','high','low']"
   ]
  },
  {
   "cell_type": "code",
   "execution_count": 3,
   "metadata": {},
   "outputs": [],
   "source": [
    "class Trade:\n",
    "    \n",
    "    def __init__(self) -> None:\n",
    "        self.timeStamp = None\n",
    "        self.signal = None\n",
    "        self.price_type = None\n",
    "    \n",
    "    def execute(self,timeStamp:datetime ,signal:int,price_type:str) -> object:\n",
    "        \n",
    "        assert signal in SIGNALS, f\"Invalid Signal {signal}\"\n",
    "        assert price_type in PRICE_TYPE, f\"Invalid Price Type {price_type}\"\n",
    "\n",
    "        self.timeStamp = timeStamp\n",
    "        self.signal = signal\n",
    "        self.price_type = price_type\n",
    "        return self\n",
    "    \n",
    "    def __str__(self) -> str:\n",
    "        return f\"{self.timeStamp} {self.signal} {self.price_type}\"\n",
    "    \n",
    "class PrVO:\n",
    "\n",
    "    def __init__(self,open:float,high:float,low:float,close:float,volume:int,timeStamp:datetime) -> None:\n",
    "        self.open = open\n",
    "        self.high = high\n",
    "        self.low = low\n",
    "        self.close = close\n",
    "        self.volume = volume\n",
    "        self.timeStamp = timeStamp\n",
    "        self.returns = (close - open)/open\n",
    "        self.candle_color = 'GREEN' if self.close > self.open else 'RED'\n",
    "\n",
    "    def __repr__(self) -> str:\n",
    "        return f\"Price-Volume : open={self.open}, high={self.high},low={self.low}, close={self.close}, volume={self.volume}, timeStamp={self.timeStamp}\"\n",
    "    \n",
    "    def __str__(self) -> str:\n",
    "        return f\"Price-Volume : open={self.open}, high={self.high},low={self.low}, close={self.close}, volume={self.volume}, timeStamp={self.timeStamp}\""
   ]
  },
  {
   "cell_type": "code",
   "execution_count": 4,
   "metadata": {},
   "outputs": [],
   "source": [
    "class TradingTerminal:\n",
    "\n",
    "    def __init__(self) -> None:\n",
    "        self.time=None\n",
    "        self.PrVo=dict()\n",
    "        self.cash_balance=1000\n",
    "        self.tradeHistory=[]\n",
    "        \n",
    "        for timeframe in TIME_FRAMES:\n",
    "            self.readData(BASE_FILE_NAME+'_'+timeframe+'.xlsx')\n",
    "\n",
    "    def readData(self,filepath):\n",
    "        df=pd.read_excel(INPUT_PATH+filepath)\n",
    "        \n",
    "        data=[]\n",
    "        for index,row in df.iterrows():\n",
    "            data.append(PrVO(row['open'],row['high'],row['low'],row['close'],row['volume'],row['datetime']))\n",
    "\n",
    "        data_timeframe=filepath.split('/')[-1].split('.')[0].split('_')[1]\n",
    "        self.PrVo[data_timeframe]=np.array(data)\n",
    "        \n",
    "    def takeTrade(self,timeStamp,signal,price_type):\n",
    "        assert signal in SIGNALS, f\"Invalid Signal {signal}\"\n",
    "        assert price_type in PRICE_TYPE, f\"Invalid Price Type {price_type}\"\n",
    "\n",
    "        trade=Trade().execute(timeStamp,signal,price_type)\n",
    "        self.tradeHistory.append(trade)\n",
    "\n",
    "    def outputTradeHistory(self):\n",
    "        file=open(OUTPUT_PATH+'trade_history.txt','w')\n",
    "        for trade in self.tradeHistory:\n",
    "            file.write(str(trade)+'\\n')\n",
    "\n",
    "    def setTime(self,time):\n",
    "        self.time=time\n",
    "\n",
    "    def getSimpleMovingAverage(self,lag,timeframe,price_type):\n",
    "        assert price_type in PRICE_TYPE, f\"Invalid Price Type {price_type}\"\n",
    "        assert timeframe in TIME_FRAMES, f\"Invalid Time Frame {timeframe}\"\n",
    "        \n",
    "        prices = np.array([getattr(entry, price_type) for entry in self.PrVo[timeframe]])\n",
    "        sma = np.convolve(prices, np.ones(lag) / lag, mode='valid')\n",
    "        sma = np.concatenate([np.full(lag - 1, np.nan), sma])\n",
    "        return sma\n",
    "    \n"
   ]
  },
  {
   "cell_type": "code",
   "execution_count": 5,
   "metadata": {},
   "outputs": [],
   "source": [
    "class Strategy:\n",
    "    def __init__(self,TradingTerminal) -> None:\n",
    "        self.terminal=TradingTerminal\n",
    "\n",
    "    @abstractmethod\n",
    "    def run(self, *args):\n",
    "        pass"
   ]
  },
  {
   "cell_type": "code",
   "execution_count": 6,
   "metadata": {},
   "outputs": [],
   "source": [
    "class Strategy1(Strategy):\n",
    "\n",
    "    def __init__(self,TradingTerminal) -> None:\n",
    "        super().__init__(TradingTerminal)\n",
    "\n",
    "    def run(self,lag1,lag2,price_type,timeframe):\n",
    "        assert price_type in PRICE_TYPE, f\"Invalid Price Type {price_type}\"\n",
    "        assert lag1>lag2, f\"Invalid Lag {lag1} {lag2}\"\n",
    "        assert timeframe in self.terminal.PrVo.keys(), f\"Invalid Timeframe {timeframe}\"\n",
    "\n",
    "        PrVo=self.terminal.PrVo[timeframe]\n",
    "\n",
    "        ema1=self.terminal.getSimpleMovingAverage(lag1,timeframe,price_type)\n",
    "        ema2=self.terminal.getSimpleMovingAverage(lag2,timeframe,price_type)"
   ]
  },
  {
   "cell_type": "code",
   "execution_count": 7,
   "metadata": {},
   "outputs": [],
   "source": [
    "tt=TradingTerminal()"
   ]
  },
  {
   "cell_type": "code",
   "execution_count": 8,
   "metadata": {},
   "outputs": [],
   "source": [
    "s1=Strategy1(tt)"
   ]
  },
  {
   "cell_type": "code",
   "execution_count": 9,
   "metadata": {},
   "outputs": [],
   "source": [
    "s1.run(10,5,'open','1h')"
   ]
  }
 ],
 "metadata": {
  "kernelspec": {
   "display_name": "Python 3",
   "language": "python",
   "name": "python3"
  },
  "language_info": {
   "codemirror_mode": {
    "name": "ipython",
    "version": 3
   },
   "file_extension": ".py",
   "mimetype": "text/x-python",
   "name": "python",
   "nbconvert_exporter": "python",
   "pygments_lexer": "ipython3",
   "version": "3.10.12"
  }
 },
 "nbformat": 4,
 "nbformat_minor": 2
}
